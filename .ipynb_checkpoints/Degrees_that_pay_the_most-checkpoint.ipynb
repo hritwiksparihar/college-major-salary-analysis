{
 "cells": [
  {
   "cell_type": "code",
   "execution_count": 237,
   "id": "df36ed45",
   "metadata": {},
   "outputs": [],
   "source": [
    "import numpy as np # linear algebra\n",
    "import pandas as pd # data processing, CSV file I/O (e.g. pd.read_csv)\n",
    "import seaborn as sns  # data visualization library  \n",
    "import matplotlib.pyplot as plt\n",
    "import time"
   ]
  },
  {
   "cell_type": "code",
   "execution_count": 238,
   "id": "a38528f3",
   "metadata": {},
   "outputs": [],
   "source": [
    "data = pd.read_excel('College_majors_salary.xlsx')"
   ]
  },
  {
   "cell_type": "code",
   "execution_count": 239,
   "id": "03335b3f",
   "metadata": {},
   "outputs": [
    {
     "data": {
      "text/html": [
       "<div>\n",
       "<style scoped>\n",
       "    .dataframe tbody tr th:only-of-type {\n",
       "        vertical-align: middle;\n",
       "    }\n",
       "\n",
       "    .dataframe tbody tr th {\n",
       "        vertical-align: top;\n",
       "    }\n",
       "\n",
       "    .dataframe thead th {\n",
       "        text-align: right;\n",
       "    }\n",
       "</style>\n",
       "<table border=\"1\" class=\"dataframe\">\n",
       "  <thead>\n",
       "    <tr style=\"text-align: right;\">\n",
       "      <th></th>\n",
       "      <th>Undergraduate Major</th>\n",
       "      <th>Starting Median Salary</th>\n",
       "      <th>Mid-Career Median Salary</th>\n",
       "      <th>Percent change from Starting to Mid-Career Salary</th>\n",
       "      <th>Mid-Career 10th Percentile Salary</th>\n",
       "      <th>Mid-Career 25th Percentile Salary</th>\n",
       "      <th>Mid-Career 75th Percentile Salary</th>\n",
       "      <th>Mid-Career 90th Percentile Salary</th>\n",
       "    </tr>\n",
       "  </thead>\n",
       "  <tbody>\n",
       "    <tr>\n",
       "      <th>0</th>\n",
       "      <td>Accounting</td>\n",
       "      <td>$46,000.00</td>\n",
       "      <td>$77,100.00</td>\n",
       "      <td>67.6</td>\n",
       "      <td>$42,200.00</td>\n",
       "      <td>$56,100.00</td>\n",
       "      <td>$108,000.00</td>\n",
       "      <td>$152,000.00</td>\n",
       "    </tr>\n",
       "    <tr>\n",
       "      <th>1</th>\n",
       "      <td>Aerospace Engineering</td>\n",
       "      <td>$57,700.00</td>\n",
       "      <td>$101,000.00</td>\n",
       "      <td>75.0</td>\n",
       "      <td>$64,300.00</td>\n",
       "      <td>$82,100.00</td>\n",
       "      <td>$127,000.00</td>\n",
       "      <td>$161,000.00</td>\n",
       "    </tr>\n",
       "    <tr>\n",
       "      <th>2</th>\n",
       "      <td>Agriculture</td>\n",
       "      <td>$42,600.00</td>\n",
       "      <td>$71,900.00</td>\n",
       "      <td>68.8</td>\n",
       "      <td>$36,300.00</td>\n",
       "      <td>$52,100.00</td>\n",
       "      <td>$96,300.00</td>\n",
       "      <td>$150,000.00</td>\n",
       "    </tr>\n",
       "    <tr>\n",
       "      <th>3</th>\n",
       "      <td>Anthropology</td>\n",
       "      <td>$36,800.00</td>\n",
       "      <td>$61,500.00</td>\n",
       "      <td>67.1</td>\n",
       "      <td>$33,800.00</td>\n",
       "      <td>$45,500.00</td>\n",
       "      <td>$89,300.00</td>\n",
       "      <td>$138,000.00</td>\n",
       "    </tr>\n",
       "    <tr>\n",
       "      <th>4</th>\n",
       "      <td>Architecture</td>\n",
       "      <td>$41,600.00</td>\n",
       "      <td>$76,800.00</td>\n",
       "      <td>84.6</td>\n",
       "      <td>$50,600.00</td>\n",
       "      <td>$62,200.00</td>\n",
       "      <td>$97,000.00</td>\n",
       "      <td>$136,000.00</td>\n",
       "    </tr>\n",
       "  </tbody>\n",
       "</table>\n",
       "</div>"
      ],
      "text/plain": [
       "      Undergraduate Major Starting Median Salary Mid-Career Median Salary  \\\n",
       "0             Accounting             $46,000.00               $77,100.00    \n",
       "1  Aerospace Engineering             $57,700.00              $101,000.00    \n",
       "2            Agriculture             $42,600.00               $71,900.00    \n",
       "3           Anthropology             $36,800.00               $61,500.00    \n",
       "4           Architecture             $41,600.00               $76,800.00    \n",
       "\n",
       "  Percent change from Starting to Mid-Career Salary  \\\n",
       "0                                             67.6    \n",
       "1                                             75.0    \n",
       "2                                             68.8    \n",
       "3                                             67.1    \n",
       "4                                             84.6    \n",
       "\n",
       "  Mid-Career 10th Percentile Salary Mid-Career 25th Percentile Salary  \\\n",
       "0                       $42,200.00                        $56,100.00    \n",
       "1                       $64,300.00                        $82,100.00    \n",
       "2                       $36,300.00                        $52,100.00    \n",
       "3                       $33,800.00                        $45,500.00    \n",
       "4                       $50,600.00                        $62,200.00    \n",
       "\n",
       "  Mid-Career 75th Percentile Salary Mid-Career 90th Percentile Salary  \n",
       "0                      $108,000.00                       $152,000.00   \n",
       "1                      $127,000.00                       $161,000.00   \n",
       "2                       $96,300.00                       $150,000.00   \n",
       "3                       $89,300.00                       $138,000.00   \n",
       "4                       $97,000.00                       $136,000.00   "
      ]
     },
     "execution_count": 239,
     "metadata": {},
     "output_type": "execute_result"
    }
   ],
   "source": [
    "data.head()"
   ]
  },
  {
   "cell_type": "code",
   "execution_count": 240,
   "id": "291fe97f",
   "metadata": {},
   "outputs": [
    {
     "data": {
      "text/html": [
       "<div>\n",
       "<style scoped>\n",
       "    .dataframe tbody tr th:only-of-type {\n",
       "        vertical-align: middle;\n",
       "    }\n",
       "\n",
       "    .dataframe tbody tr th {\n",
       "        vertical-align: top;\n",
       "    }\n",
       "\n",
       "    .dataframe thead th {\n",
       "        text-align: right;\n",
       "    }\n",
       "</style>\n",
       "<table border=\"1\" class=\"dataframe\">\n",
       "  <thead>\n",
       "    <tr style=\"text-align: right;\">\n",
       "      <th></th>\n",
       "      <th>Undergraduate Major</th>\n",
       "      <th>Starting Median Salary</th>\n",
       "      <th>Mid-Career Median Salary</th>\n",
       "      <th>Percent change from Starting to Mid-Career Salary</th>\n",
       "      <th>Mid-Career 10th Percentile Salary</th>\n",
       "      <th>Mid-Career 25th Percentile Salary</th>\n",
       "      <th>Mid-Career 75th Percentile Salary</th>\n",
       "      <th>Mid-Career 90th Percentile Salary</th>\n",
       "    </tr>\n",
       "  </thead>\n",
       "  <tbody>\n",
       "    <tr>\n",
       "      <th>count</th>\n",
       "      <td>50</td>\n",
       "      <td>50</td>\n",
       "      <td>50</td>\n",
       "      <td>50</td>\n",
       "      <td>50</td>\n",
       "      <td>50</td>\n",
       "      <td>50</td>\n",
       "      <td>50</td>\n",
       "    </tr>\n",
       "    <tr>\n",
       "      <th>unique</th>\n",
       "      <td>50</td>\n",
       "      <td>43</td>\n",
       "      <td>49</td>\n",
       "      <td>48</td>\n",
       "      <td>45</td>\n",
       "      <td>48</td>\n",
       "      <td>44</td>\n",
       "      <td>43</td>\n",
       "    </tr>\n",
       "    <tr>\n",
       "      <th>top</th>\n",
       "      <td>Accounting</td>\n",
       "      <td>$35,900.00</td>\n",
       "      <td>$52,000.00</td>\n",
       "      <td>56.2</td>\n",
       "      <td>$56,000.00</td>\n",
       "      <td>$45,500.00</td>\n",
       "      <td>$108,000.00</td>\n",
       "      <td>$168,000.00</td>\n",
       "    </tr>\n",
       "    <tr>\n",
       "      <th>freq</th>\n",
       "      <td>1</td>\n",
       "      <td>3</td>\n",
       "      <td>2</td>\n",
       "      <td>2</td>\n",
       "      <td>2</td>\n",
       "      <td>3</td>\n",
       "      <td>4</td>\n",
       "      <td>3</td>\n",
       "    </tr>\n",
       "  </tbody>\n",
       "</table>\n",
       "</div>"
      ],
      "text/plain": [
       "       Undergraduate Major Starting Median Salary Mid-Career Median Salary  \\\n",
       "count                   50                     50                       50   \n",
       "unique                  50                     43                       49   \n",
       "top            Accounting             $35,900.00               $52,000.00    \n",
       "freq                     1                      3                        2   \n",
       "\n",
       "       Percent change from Starting to Mid-Career Salary  \\\n",
       "count                                                 50   \n",
       "unique                                                48   \n",
       "top                                                56.2    \n",
       "freq                                                   2   \n",
       "\n",
       "       Mid-Career 10th Percentile Salary Mid-Career 25th Percentile Salary  \\\n",
       "count                                 50                                50   \n",
       "unique                                45                                48   \n",
       "top                          $56,000.00                        $45,500.00    \n",
       "freq                                   2                                 3   \n",
       "\n",
       "       Mid-Career 75th Percentile Salary Mid-Career 90th Percentile Salary  \n",
       "count                                 50                                50  \n",
       "unique                                44                                43  \n",
       "top                         $108,000.00                       $168,000.00   \n",
       "freq                                   4                                 3  "
      ]
     },
     "execution_count": 240,
     "metadata": {},
     "output_type": "execute_result"
    }
   ],
   "source": [
    "data.describe()"
   ]
  },
  {
   "cell_type": "code",
   "execution_count": 241,
   "id": "88bd3ee9",
   "metadata": {},
   "outputs": [
    {
     "name": "stderr",
     "output_type": "stream",
     "text": [
      "C:\\Users\\Hritwik\\AppData\\Local\\Temp\\ipykernel_22600\\1531978867.py:4: FutureWarning:\n",
      "\n",
      "The default value of regex will change from True to False in a future version. In addition, single character regular expressions will *not* be treated as literal strings when regex=True.\n",
      "\n",
      "C:\\Users\\Hritwik\\AppData\\Local\\Temp\\ipykernel_22600\\1531978867.py:5: FutureWarning:\n",
      "\n",
      "The default value of regex will change from True to False in a future version. In addition, single character regular expressions will *not* be treated as literal strings when regex=True.\n",
      "\n",
      "C:\\Users\\Hritwik\\AppData\\Local\\Temp\\ipykernel_22600\\1531978867.py:7: FutureWarning:\n",
      "\n",
      "The default value of regex will change from True to False in a future version. In addition, single character regular expressions will *not* be treated as literal strings when regex=True.\n",
      "\n",
      "C:\\Users\\Hritwik\\AppData\\Local\\Temp\\ipykernel_22600\\1531978867.py:8: FutureWarning:\n",
      "\n",
      "The default value of regex will change from True to False in a future version. In addition, single character regular expressions will *not* be treated as literal strings when regex=True.\n",
      "\n",
      "C:\\Users\\Hritwik\\AppData\\Local\\Temp\\ipykernel_22600\\1531978867.py:9: FutureWarning:\n",
      "\n",
      "The default value of regex will change from True to False in a future version. In addition, single character regular expressions will *not* be treated as literal strings when regex=True.\n",
      "\n",
      "C:\\Users\\Hritwik\\AppData\\Local\\Temp\\ipykernel_22600\\1531978867.py:10: FutureWarning:\n",
      "\n",
      "The default value of regex will change from True to False in a future version. In addition, single character regular expressions will *not* be treated as literal strings when regex=True.\n",
      "\n"
     ]
    },
    {
     "data": {
      "text/html": [
       "<div>\n",
       "<style scoped>\n",
       "    .dataframe tbody tr th:only-of-type {\n",
       "        vertical-align: middle;\n",
       "    }\n",
       "\n",
       "    .dataframe tbody tr th {\n",
       "        vertical-align: top;\n",
       "    }\n",
       "\n",
       "    .dataframe thead th {\n",
       "        text-align: right;\n",
       "    }\n",
       "</style>\n",
       "<table border=\"1\" class=\"dataframe\">\n",
       "  <thead>\n",
       "    <tr style=\"text-align: right;\">\n",
       "      <th></th>\n",
       "      <th>Undergraduate Major</th>\n",
       "      <th>Starting Median Salary</th>\n",
       "      <th>Mid-Career Median Salary</th>\n",
       "      <th>Percent change from Starting to Mid-Career Salary</th>\n",
       "      <th>Mid-Career 10th Percentile Salary</th>\n",
       "      <th>Mid-Career 25th Percentile Salary</th>\n",
       "      <th>Mid-Career 75th Percentile Salary</th>\n",
       "      <th>Mid-Career 90th Percentile Salary</th>\n",
       "    </tr>\n",
       "  </thead>\n",
       "  <tbody>\n",
       "    <tr>\n",
       "      <th>0</th>\n",
       "      <td>Accounting</td>\n",
       "      <td>46000.0</td>\n",
       "      <td>77100.0</td>\n",
       "      <td>67.6</td>\n",
       "      <td>42200.0</td>\n",
       "      <td>56100.0</td>\n",
       "      <td>108000.0</td>\n",
       "      <td>152000.0</td>\n",
       "    </tr>\n",
       "    <tr>\n",
       "      <th>1</th>\n",
       "      <td>Aerospace Engineering</td>\n",
       "      <td>57700.0</td>\n",
       "      <td>101000.0</td>\n",
       "      <td>75.0</td>\n",
       "      <td>64300.0</td>\n",
       "      <td>82100.0</td>\n",
       "      <td>127000.0</td>\n",
       "      <td>161000.0</td>\n",
       "    </tr>\n",
       "    <tr>\n",
       "      <th>2</th>\n",
       "      <td>Agriculture</td>\n",
       "      <td>42600.0</td>\n",
       "      <td>71900.0</td>\n",
       "      <td>68.8</td>\n",
       "      <td>36300.0</td>\n",
       "      <td>52100.0</td>\n",
       "      <td>96300.0</td>\n",
       "      <td>150000.0</td>\n",
       "    </tr>\n",
       "    <tr>\n",
       "      <th>3</th>\n",
       "      <td>Anthropology</td>\n",
       "      <td>36800.0</td>\n",
       "      <td>61500.0</td>\n",
       "      <td>67.1</td>\n",
       "      <td>33800.0</td>\n",
       "      <td>45500.0</td>\n",
       "      <td>89300.0</td>\n",
       "      <td>138000.0</td>\n",
       "    </tr>\n",
       "    <tr>\n",
       "      <th>4</th>\n",
       "      <td>Architecture</td>\n",
       "      <td>41600.0</td>\n",
       "      <td>76800.0</td>\n",
       "      <td>84.6</td>\n",
       "      <td>50600.0</td>\n",
       "      <td>62200.0</td>\n",
       "      <td>97000.0</td>\n",
       "      <td>136000.0</td>\n",
       "    </tr>\n",
       "  </tbody>\n",
       "</table>\n",
       "</div>"
      ],
      "text/plain": [
       "      Undergraduate Major  Starting Median Salary  Mid-Career Median Salary  \\\n",
       "0             Accounting                  46000.0                   77100.0   \n",
       "1  Aerospace Engineering                  57700.0                  101000.0   \n",
       "2            Agriculture                  42600.0                   71900.0   \n",
       "3           Anthropology                  36800.0                   61500.0   \n",
       "4           Architecture                  41600.0                   76800.0   \n",
       "\n",
       "   Percent change from Starting to Mid-Career Salary  \\\n",
       "0                                               67.6   \n",
       "1                                               75.0   \n",
       "2                                               68.8   \n",
       "3                                               67.1   \n",
       "4                                               84.6   \n",
       "\n",
       "   Mid-Career 10th Percentile Salary  Mid-Career 25th Percentile Salary  \\\n",
       "0                            42200.0                            56100.0   \n",
       "1                            64300.0                            82100.0   \n",
       "2                            36300.0                            52100.0   \n",
       "3                            33800.0                            45500.0   \n",
       "4                            50600.0                            62200.0   \n",
       "\n",
       "   Mid-Career 75th Percentile Salary  Mid-Career 90th Percentile Salary  \n",
       "0                           108000.0                           152000.0  \n",
       "1                           127000.0                           161000.0  \n",
       "2                            96300.0                           150000.0  \n",
       "3                            89300.0                           138000.0  \n",
       "4                            97000.0                           136000.0  "
      ]
     },
     "execution_count": 241,
     "metadata": {},
     "output_type": "execute_result"
    }
   ],
   "source": [
    "df = data\n",
    "\n",
    "# Apply the clean_salary_column function to all columns with salary data\n",
    "df['Starting Median Salary'] = df['Starting Median Salary'].str.replace('$','').str.replace(',','').astype(float);\n",
    "df['Mid-Career Median Salary'] = df['Mid-Career Median Salary'].str.replace('$','').str.replace(',','').astype(float);\n",
    "df['Percent change from Starting to Mid-Career Salary'] = df['Percent change from Starting to Mid-Career Salary'].astype(float);\n",
    "df['Mid-Career 10th Percentile Salary'] = df['Mid-Career 10th Percentile Salary'].str.replace('$','').str.replace(',','').astype(float);\n",
    "df['Mid-Career 25th Percentile Salary'] = df['Mid-Career 25th Percentile Salary'].str.replace('$','').str.replace(',','').astype(float);\n",
    "df['Mid-Career 75th Percentile Salary'] = df['Mid-Career 75th Percentile Salary'].str.replace('$','').str.replace(',','').astype(float);\n",
    "df['Mid-Career 90th Percentile Salary'] = df['Mid-Career 90th Percentile Salary'].str.replace('$','').str.replace(',','').astype(float);\n",
    "\n",
    "df.head()"
   ]
  },
  {
   "cell_type": "code",
   "execution_count": 242,
   "id": "0b08f768",
   "metadata": {},
   "outputs": [],
   "source": [
    "df['Starting Median Salary'] = df['Starting Median Salary'].astype(int);\n",
    "df['Mid-Career Median Salary'] = df['Mid-Career Median Salary'].astype(int);\n",
    "df['Mid-Career 10th Percentile Salary'] = df['Mid-Career 10th Percentile Salary'].astype(int);\n",
    "df['Mid-Career 25th Percentile Salary'] = df['Mid-Career 25th Percentile Salary'].astype(int);\n",
    "df['Mid-Career 75th Percentile Salary'] = df['Mid-Career 75th Percentile Salary'].astype(int);\n",
    "df['Mid-Career 90th Percentile Salary'] = df['Mid-Career 90th Percentile Salary'].astype(int);"
   ]
  },
  {
   "cell_type": "code",
   "execution_count": 243,
   "id": "4da04b9c",
   "metadata": {},
   "outputs": [
    {
     "data": {
      "text/plain": [
       "'\"\"\\nx_pos = np.arange(len(df))\\n\\n# Create the figure and axis objects\\nfig, ax = plt.subplots(figsize=(40, 25))\\n\\n# Create the bars for the 25th percentile salaries\\nbar1 = ax.bar(x_pos, df[\\'Starting Median Salary\\'], width=0.4, color=\\'red\\', align=\\'center\\')\\n\\n# Create the bars for the 75th percentile salaries\\nbar2 = ax.bar(x_pos+0.4, df[\\'Mid-Career Median Salary\\'], width=0.4, color=\\'blue\\', align=\\'center\\')\\n\\n# Set the labels, title, and axis limits\\nax.set_xlabel(\\'College Majors\\')\\nax.set_ylabel(\\'Median Salaries\\')\\nax.set_title(\\'Median Salaries for Different College Majors\\')\\nax.set_xticks(x_pos+0.2)\\nax.set_xticklabels(df[\\'Undergraduate Major\\'])\\nax.set_ylim([0, max(df[\\'Mid-Career Median Salary\\'])*1.1])\\n\\n# Add a legend\\nax.legend((bar1[0], bar2[0]), (\\'25th Percentile\\', \\'75th Percentile\\'))\\n\\n\\n\\n# Show the plot\\nplt.show()\\n'"
      ]
     },
     "execution_count": 243,
     "metadata": {},
     "output_type": "execute_result"
    }
   ],
   "source": [
    "\"\"\"\"\"\n",
    "x_pos = np.arange(len(df))\n",
    "\n",
    "# Create the figure and axis objects\n",
    "fig, ax = plt.subplots(figsize=(40, 25))\n",
    "\n",
    "# Create the bars for the 25th percentile salaries\n",
    "bar1 = ax.bar(x_pos, df['Starting Median Salary'], width=0.4, color='red', align='center')\n",
    "\n",
    "# Create the bars for the 75th percentile salaries\n",
    "bar2 = ax.bar(x_pos+0.4, df['Mid-Career Median Salary'], width=0.4, color='blue', align='center')\n",
    "\n",
    "# Set the labels, title, and axis limits\n",
    "ax.set_xlabel('College Majors')\n",
    "ax.set_ylabel('Median Salaries')\n",
    "ax.set_title('Median Salaries for Different College Majors')\n",
    "ax.set_xticks(x_pos+0.2)\n",
    "ax.set_xticklabels(df['Undergraduate Major'])\n",
    "ax.set_ylim([0, max(df['Mid-Career Median Salary'])*1.1])\n",
    "\n",
    "# Add a legend\n",
    "ax.legend((bar1[0], bar2[0]), ('25th Percentile', '75th Percentile'))\n",
    "\n",
    "\n",
    "\n",
    "# Show the plot\n",
    "plt.show()\n",
    "\"\"\"\"\""
   ]
  },
  {
   "cell_type": "code",
   "execution_count": 244,
   "id": "300bfe51",
   "metadata": {},
   "outputs": [],
   "source": [
    "# Plot a simple line chart\n",
    "#plt.plot(df['Undergraduate Major'], df['Starting Median Salary'], color='g', label='Line y')\n",
    "\n",
    "# Plot another line on the same chart/graph\n",
    "#plt.plot(df['Undergraduate Major'], df['Mid-Career Median Salary'], color='r', label='Line z')\n",
    "\n",
    "#plt.legend()\n",
    "#plt.show()"
   ]
  },
  {
   "cell_type": "code",
   "execution_count": 245,
   "id": "0a79e5ef",
   "metadata": {},
   "outputs": [
    {
     "data": {
      "image/png": "[encoded data removed]",
      "text/plain": [
       "<Figure size 432x288 with 1 Axes>"
      ]
     },
     "metadata": {
      "needs_background": "light"
     },
     "output_type": "display_data"
    }
   ],
   "source": [
    "# Creating the data\n",
    "x1 = np.array(df['Starting Median Salary'])\n",
    "x2 = np.array(df['Mid-Career Median Salary'])\n",
    "X = np.array(list(zip(x1, x2))).reshape(len(x1), 2)\n",
    "  \n",
    "# Visualizing the data\n",
    "plt.plot()\n",
    "plt.xlim([30000, 80000])\n",
    "plt.ylim([30000, 120000])\n",
    "plt.title('Dataset')\n",
    "plt.scatter(x1, x2)\n",
    "plt.show()"
   ]
  },
  {
   "cell_type": "code",
   "execution_count": 246,
   "id": "e0638e2b",
   "metadata": {},
   "outputs": [
    {
     "data": {
      "text/plain": [
       "74300"
      ]
     },
     "execution_count": 246,
     "metadata": {},
     "output_type": "execute_result"
    }
   ],
   "source": [
    "max(df['Starting Median Salary'])"
   ]
  },
  {
   "cell_type": "code",
   "execution_count": 247,
   "id": "30ec479d",
   "metadata": {},
   "outputs": [],
   "source": [
    "# Elbow Method for optimal value of k in KMeans"
   ]
  },
  {
   "cell_type": "code",
   "execution_count": 248,
   "id": "6e141a05",
   "metadata": {},
   "outputs": [],
   "source": [
    "from sklearn.cluster import KMeans\n",
    "from sklearn import metrics\n",
    "from scipy.spatial.distance import cdist\n",
    "import numpy as np\n",
    "import matplotlib.pyplot as plt"
   ]
  },
  {
   "cell_type": "code",
   "execution_count": 249,
   "id": "57f6ce42",
   "metadata": {},
   "outputs": [
    {
     "name": "stderr",
     "output_type": "stream",
     "text": [
      "C:\\Users\\Hritwik\\anaconda3\\lib\\site-packages\\sklearn\\cluster\\_kmeans.py:1036: UserWarning:\n",
      "\n",
      "KMeans is known to have a memory leak on Windows with MKL, when there are less chunks than available threads. You can avoid it by setting the environment variable OMP_NUM_THREADS=1.\n",
      "\n",
      "C:\\Users\\Hritwik\\anaconda3\\lib\\site-packages\\sklearn\\cluster\\_kmeans.py:1036: UserWarning:\n",
      "\n",
      "KMeans is known to have a memory leak on Windows with MKL, when there are less chunks than available threads. You can avoid it by setting the environment variable OMP_NUM_THREADS=1.\n",
      "\n"
     ]
    }
   ],
   "source": [
    "\n",
    "distortions = []\n",
    "inertias = []\n",
    "mapping1 = {}\n",
    "mapping2 = {}\n",
    "K = range(1, 10)\n",
    "  \n",
    "for k in K:\n",
    "    # Building and fitting the model\n",
    "    kmeanModel = KMeans(n_clusters=k).fit(X)\n",
    "    kmeanModel.fit(X)\n",
    "  \n",
    "    distortions.append(sum(np.min(cdist(X, kmeanModel.cluster_centers_,\n",
    "                                        'euclidean'), axis=1)) / X.shape[0])\n",
    "    inertias.append(kmeanModel.inertia_)\n",
    "  \n",
    "    mapping1[k] = sum(np.min(cdist(X, kmeanModel.cluster_centers_,\n",
    "                                   'euclidean'), axis=1)) / X.shape[0]\n",
    "    mapping2[k] = kmeanModel.inertia_"
   ]
  },
  {
   "cell_type": "code",
   "execution_count": 250,
   "id": "e5d6fa61",
   "metadata": {},
   "outputs": [
    {
     "name": "stdout",
     "output_type": "stream",
     "text": [
      "1 : 16069.766253121057\n",
      "2 : 8868.456288184065\n",
      "3 : 5861.8643912308735\n",
      "4 : 5244.689502349202\n",
      "5 : 4331.395997396437\n",
      "6 : 3872.970382460965\n",
      "7 : 3516.777315670363\n",
      "8 : 3134.4057709334593\n",
      "9 : 2862.4832681903026\n"
     ]
    }
   ],
   "source": [
    "for key, val in mapping1.items():\n",
    "    print(f'{key} : {val}')"
   ]
  },
  {
   "cell_type": "code",
   "execution_count": 251,
   "id": "2ac1307d",
   "metadata": {},
   "outputs": [
    {
     "data": {
      "image/png": "[encoded data removed]",
      "text/plain": [
       "<Figure size 432x288 with 1 Axes>"
      ]
     },
     "metadata": {
      "needs_background": "light"
     },
     "output_type": "display_data"
    }
   ],
   "source": [
    "plt.plot(K, distortions, 'bx-')\n",
    "plt.xlabel('Values of K')\n",
    "plt.ylabel('Distortion')\n",
    "plt.title('The Elbow Method using Distortion')\n",
    "plt.show()"
   ]
  },
  {
   "cell_type": "code",
   "execution_count": null,
   "id": "bffe4d44",
   "metadata": {},
   "outputs": [],
   "source": [
    "#"
   ]
  },
  {
   "cell_type": "code",
   "execution_count": 255,
   "id": "f9755a08",
   "metadata": {},
   "outputs": [],
   "source": [
    "import numpy as np\n",
    "import matplotlib.pyplot as plt"
   ]
  },
  {
   "cell_type": "code",
   "execution_count": null,
   "id": "1de1dc3b",
   "metadata": {},
   "outputs": [],
   "source": [
    "X,y = make_blobs(n_samples = 500,n_features = 2,centers = 3,random_state = 23)\n",
    "\n",
    "fig = plt.figure(0)\n",
    "plt.grid(True)\n",
    "plt.scatter(X[:,0],X[:,1])\n",
    "plt.show()\n"
   ]
  },
  {
   "cell_type": "code",
   "execution_count": 313,
   "id": "b1793337",
   "metadata": {},
   "outputs": [
    {
     "data": {
      "image/png": "[encoded data removed]",
      "text/plain": [
       "<Figure size 432x288 with 1 Axes>"
      ]
     },
     "metadata": {
      "needs_background": "light"
     },
     "output_type": "display_data"
    }
   ],
   "source": [
    "from sklearn.datasets import make_blobs\n",
    "#X,y = make_blobs(n_samples = 500,n_features = 2,centers = 3,random_state = 23)\n",
    "X = pd.DataFrame(df, columns=['Starting Median Salary', 'Mid-Career Median Salary']) \n",
    "X.to_numpy()\n",
    "X=X.iloc[:,:].values\n",
    "\n",
    "fig = plt.figure(0)\n",
    "plt.grid(True)\n",
    "plt.scatter(X[:,0],X[:,1])\n",
    "plt.show()\n"
   ]
  },
  {
   "cell_type": "code",
   "execution_count": 456,
   "id": "6dba4706",
   "metadata": {},
   "outputs": [
    {
     "data": {
      "text/plain": [
       "{0: {'center': array([48830.29842464, 69454.20498311]), 'points': []},\n",
       " 1: {'center': array([60742.06845105, 37555.00051042]), 'points': []},\n",
       " 2: {'center': array([34610.17743656, 56938.6600914 ]), 'points': []}}"
      ]
     },
     "execution_count": 456,
     "metadata": {},
     "output_type": "execute_result"
    }
   ],
   "source": [
    "k = 3\n",
    "  \n",
    "clusters = {}\n",
    "np.random.seed(23)\n",
    "  \n",
    "for idx in range(k):\n",
    "    center = 2*(2*np.random.random((X.shape[1],))+1)*12000 \n",
    "    points = []\n",
    "    cluster = {\n",
    "        'center' : center,\n",
    "        'points' : []\n",
    "    }\n",
    "      \n",
    "    clusters[idx] = cluster\n",
    "      \n",
    "clusters"
   ]
  },
  {
   "cell_type": "code",
   "execution_count": 457,
   "id": "30dd2a59",
   "metadata": {},
   "outputs": [
    {
     "data": {
      "image/png": "[encoded data removed]",
      "text/plain": [
       "<Figure size 432x288 with 1 Axes>"
      ]
     },
     "metadata": {
      "needs_background": "light"
     },
     "output_type": "display_data"
    }
   ],
   "source": [
    "plt.scatter(X[:,0],X[:,1])\n",
    "plt.grid(True)\n",
    "for i in clusters:\n",
    "    center = clusters[i]['center']\n",
    "    plt.scatter(center[0],center[1],marker = '*',c = 'red')\n",
    "plt.show()"
   ]
  },
  {
   "cell_type": "code",
   "execution_count": 458,
   "id": "1013f2cc",
   "metadata": {},
   "outputs": [],
   "source": [
    "def distance(p1,p2):\n",
    "    return np.sqrt(np.sum((p1-p2)**2))"
   ]
  },
  {
   "cell_type": "code",
   "execution_count": null,
   "id": "95f27c6c",
   "metadata": {},
   "outputs": [],
   "source": []
  }
 ],
 "metadata": {
  "kernelspec": {
   "display_name": "Python 3 (ipykernel)",
   "language": "python",
   "name": "python3"
  },
  "language_info": {
   "codemirror_mode": {
    "name": "ipython",
    "version": 3
   },
   "file_extension": ".py",
   "mimetype": "text/x-python",
   "name": "python",
   "nbconvert_exporter": "python",
   "pygments_lexer": "ipython3",
   "version": "3.9.12"
  }
 },
 "nbformat": 4,
 "nbformat_minor": 5
}
